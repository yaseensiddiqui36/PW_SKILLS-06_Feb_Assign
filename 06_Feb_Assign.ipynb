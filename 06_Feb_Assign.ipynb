{
 "cells": [
  {
   "cell_type": "markdown",
   "id": "0c256079-6b02-4cee-b614-05439af82085",
   "metadata": {},
   "source": [
    "TASK 01\n",
    "\n",
    "Q1. Create a function which will take a list as an argument and return the product of all the numbers\n",
    "after creating a flat list.\n",
    "Use the below-given list as an argument for your function.\n",
    "\n",
    "\n",
    "list1 = [1,2,3,4, [44,55,66, True], False, (34,56,78,89,34), {1,2,3,3,2,1}, {1:34, \"key2\": [55, 67, 78, 89], 4: (45,\n",
    "22, 61, 34)}, [56, 'data science'], 'Machine Learning']\n",
    "\n",
    "\n",
    "Note: you must extract numeric keys and values of the dictionary also."
   ]
  },
  {
   "cell_type": "code",
   "execution_count": 64,
   "id": "4c891db7-465b-45f4-8674-74828bbfe9b3",
   "metadata": {},
   "outputs": [],
   "source": [
    "list1 = [1,2,3,4, [44,55,66, True], False, (34,56,78,89,34), {1,2,3,3,2,1}, {1:34, \"key2\": [55, 67, 78, 89], 4: (45,\n",
    "22, 61, 34)}, [56, 'data science'], 'Machine Learning']\n"
   ]
  },
  {
   "cell_type": "code",
   "execution_count": null,
   "id": "92ebdf0c-f8a6-40f2-af7b-f3a15acd49da",
   "metadata": {},
   "outputs": [],
   "source": [
    "def flat_list (lst):\n",
    "    lst1= list()\n",
    "    #product= 1\n",
    "    for i in lst:\n",
    "        if type(i)== int:\n",
    "            lst1.append(i)\n",
    "        elif type(i)== list:\n",
    "            for j in i:\n",
    "                if type(j)==int:\n",
    "                    lst1.append(j)\n",
    "        elif type(i)== tuple:\n",
    "            for j in i:\n",
    "                if type(j)==int:\n",
    "                    lst1.append(j)\n",
    "        elif type(i)== set:\n",
    "            for j in i:\n",
    "                if type(j)==int:\n",
    "                    lst1.append(j)\n",
    "        elif type(i)== dict:\n",
    "            for j in i.keys():\n",
    "                if type(j)==int:\n",
    "                    lst1.append(j)\n",
    "            for j in i.values():\n",
    "                if type(j)==int:\n",
    "                    lst1.append(j)\n",
    "                elif type(j)== tuple:\n",
    "                    for k in j:\n",
    "                        if type(k)==int:\n",
    "                            lst1.append(k)\n",
    "                elif type(j)== list:\n",
    "                    for k in j:\n",
    "                        if type(k)==int:\n",
    "                            lst1.append(k)\n",
    "        \n",
    "    return lst1"
   ]
  },
  {
   "cell_type": "code",
   "execution_count": 65,
   "id": "103167cd-e495-43f3-b3cc-a08bd10a6e98",
   "metadata": {},
   "outputs": [
    {
     "name": "stdout",
     "output_type": "stream",
     "text": [
      "[1, 2, 3, 4, 44, 55, 66, 34, 56, 78, 89, 34, 1, 2, 3, 1, 4, 34, 55, 67, 78, 89, 45, 22, 61, 34, 56]\n",
      "4134711838987085478833841242112000\n"
     ]
    }
   ],
   "source": [
    "print(flat_list(list1))\n",
    "\n",
    "product=1\n",
    "for i in flat_list(list1):\n",
    "    product*=i\n",
    "print(product)"
   ]
  },
  {
   "cell_type": "code",
   "execution_count": null,
   "id": "17e746b8-818f-4b08-8b8e-8a28af4d1f70",
   "metadata": {},
   "outputs": [],
   "source": []
  },
  {
   "cell_type": "markdown",
   "id": "5be3faeb-c5a0-4b96-a175-83d1991182a5",
   "metadata": {},
   "source": [
    "Task 2\n",
    "\n",
    "Q2. Write a python program for encrypting a message sent to you by your friend. The logic of encryption\n",
    "should be such that, for a the output should be z. For b, the output should be y. For c, the output should\n",
    "be x respectively. Also, the whitespace should be replaced with a dollar sign. Keep the punctuation\n",
    "marks unchanged.\n",
    "Input Sentence: I want to become a Data Scientist.\n",
    "Encrypt the above input sentence using the program you just created.\n",
    "Note: Convert the given input sentence into lowercase before encrypting. The final output should be\n",
    "lowercase.\n"
   ]
  },
  {
   "cell_type": "code",
   "execution_count": 67,
   "id": "c575e647-8d87-45e4-9366-4a4dbcaf476f",
   "metadata": {},
   "outputs": [
    {
     "data": {
      "text/plain": [
       "73"
      ]
     },
     "execution_count": 67,
     "metadata": {},
     "output_type": "execute_result"
    }
   ],
   "source": [
    "a = ord(chr(90-ord(\"R\")+65))\n",
    "a\n"
   ]
  },
  {
   "cell_type": "code",
   "execution_count": 61,
   "id": "831e15e0-fbd2-426d-ad31-57703300fc52",
   "metadata": {},
   "outputs": [
    {
     "name": "stdout",
     "output_type": "stream",
     "text": [
      "$R$dzmg$gl$yvxlnv$z$Wzgz$Hxrvmgrhg.\n"
     ]
    }
   ],
   "source": [
    "def encrypter(text):\n",
    "    code= str()\n",
    "    for i in text:\n",
    "        if (ord(i)>64 and ord(i)<91):\n",
    "            code+= chr(90-ord(i)+65)\n",
    "        elif (ord(i)>96 and ord(i)<123):\n",
    "            code+= chr(122-ord(i)+97)\n",
    "        elif ord(i)==32:\n",
    "            code+=(\"$\")\n",
    "        else:\n",
    "            code+=i\n",
    "            \n",
    "\n",
    "    return code    \n",
    "msg = \" I want to become a Data Scientist.\"\n",
    "print(encrypter(msg))"
   ]
  },
  {
   "cell_type": "code",
   "execution_count": null,
   "id": "ce346745-00d7-411c-bf10-0ef4dbf11d30",
   "metadata": {},
   "outputs": [],
   "source": []
  },
  {
   "cell_type": "code",
   "execution_count": null,
   "id": "0283e39d-ca7b-4d7d-b57b-c296f163a860",
   "metadata": {},
   "outputs": [],
   "source": []
  }
 ],
 "metadata": {
  "kernelspec": {
   "display_name": "Python 3 (ipykernel)",
   "language": "python",
   "name": "python3"
  },
  "language_info": {
   "codemirror_mode": {
    "name": "ipython",
    "version": 3
   },
   "file_extension": ".py",
   "mimetype": "text/x-python",
   "name": "python",
   "nbconvert_exporter": "python",
   "pygments_lexer": "ipython3",
   "version": "3.10.8"
  }
 },
 "nbformat": 4,
 "nbformat_minor": 5
}
